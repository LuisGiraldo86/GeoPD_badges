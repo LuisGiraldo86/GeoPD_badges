{
 "cells": [
  {
   "cell_type": "code",
   "execution_count": null,
   "metadata": {},
   "outputs": [],
   "source": [
    "import os\n",
    "\n",
    "from pathlib import Path\n",
    "\n",
    "from pdf2image import convert_from_path\n"
   ]
  },
  {
   "cell_type": "code",
   "execution_count": null,
   "metadata": {},
   "outputs": [],
   "source": [
    "\n",
    "library_path = Path(os.getcwd()).parent\n",
    "\n",
    "flags_pdf = library_path / 'flags' / 'pdf'\n",
    "flags_png = library_path / 'flags' / 'png'"
   ]
  },
  {
   "cell_type": "code",
   "execution_count": null,
   "metadata": {},
   "outputs": [],
   "source": [
    "# Convert the PDF to images\n",
    "\n",
    "for pdf_file in flags_pdf.glob('*.pdf'):\n",
    "\n",
    "    images = convert_from_path(pdf_file)\n",
    "    images[0].save(flags_png / f\"{pdf_file.stem}.png\", 'PNG')\n"
   ]
  }
 ],
 "metadata": {
  "kernelspec": {
   "display_name": "badges-rajFUHaa-py3.10",
   "language": "python",
   "name": "python3"
  },
  "language_info": {
   "codemirror_mode": {
    "name": "ipython",
    "version": 3
   },
   "file_extension": ".py",
   "mimetype": "text/x-python",
   "name": "python",
   "nbconvert_exporter": "python",
   "pygments_lexer": "ipython3",
   "version": "3.10.16"
  }
 },
 "nbformat": 4,
 "nbformat_minor": 2
}
